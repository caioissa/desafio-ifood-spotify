{
 "cells": [
  {
   "cell_type": "markdown",
   "metadata": {},
   "source": [
    "# Documentação Spotipy"
   ]
  },
  {
   "cell_type": "markdown",
   "metadata": {},
   "source": [
    "### Importações"
   ]
  },
  {
   "cell_type": "code",
   "execution_count": 1,
   "metadata": {},
   "outputs": [],
   "source": [
    "import spotipy\n",
    "from spotipy.oauth2 import SpotifyClientCredentials"
   ]
  },
  {
   "cell_type": "markdown",
   "metadata": {},
   "source": [
    "### Autenticação\n",
    "![alt text](https://trello-attachments.s3.amazonaws.com/5f16e5e3e2c9bc4acd534fef/831x321/d3412ee4b4f419ce0ed38ac5f8a34012/desafio_ifood_authSpotify.png)\n"
   ]
  },
  {
   "cell_type": "code",
   "execution_count": 2,
   "metadata": {},
   "outputs": [],
   "source": [
    "#export SPOTIPY_CLIENT_ID=20fd0b23aa5a44a3a369e483e9d216e5\n",
    "#export SPOTIPY_CLIENT_SECRET=cf98548e2ab343d8b2afe04808637f04"
   ]
  },
  {
   "cell_type": "code",
   "execution_count": 3,
   "metadata": {},
   "outputs": [],
   "source": [
    "# Método cuida de todo o processo de autenticação\n",
    "sp = spotipy.Spotify(auth_manager=SpotifyClientCredentials())"
   ]
  },
  {
   "cell_type": "markdown",
   "metadata": {},
   "source": [
    "### Recomendações\n",
    "![alt text](https://trello-attachments.s3.amazonaws.com/5f16e5e3e2c9bc4acd534fef/782x322/d15e42c181f195fdf54d9f8a33e52ab9/desafio_ifood_musicas.png)"
   ]
  },
  {
   "cell_type": "code",
   "execution_count": 4,
   "metadata": {},
   "outputs": [
    {
     "name": "stdout",
     "output_type": "stream",
     "text": [
      "['acoustic', 'afrobeat', 'alt-rock', 'alternative', 'ambient', 'anime', 'black-metal', 'bluegrass', 'blues', 'bossanova', 'brazil', 'breakbeat', 'british', 'cantopop', 'chicago-house', 'children', 'chill', 'classical', 'club', 'comedy', 'country', 'dance', 'dancehall', 'death-metal', 'deep-house', 'detroit-techno', 'disco', 'disney', 'drum-and-bass', 'dub', 'dubstep', 'edm', 'electro', 'electronic', 'emo', 'folk', 'forro', 'french', 'funk', 'garage', 'german', 'gospel', 'goth', 'grindcore', 'groove', 'grunge', 'guitar', 'happy', 'hard-rock', 'hardcore', 'hardstyle', 'heavy-metal', 'hip-hop', 'holidays', 'honky-tonk', 'house', 'idm', 'indian', 'indie', 'indie-pop', 'industrial', 'iranian', 'j-dance', 'j-idol', 'j-pop', 'j-rock', 'jazz', 'k-pop', 'kids', 'latin', 'latino', 'malay', 'mandopop', 'metal', 'metal-misc', 'metalcore', 'minimal-techno', 'movies', 'mpb', 'new-age', 'new-release', 'opera', 'pagode', 'party', 'philippines-opm', 'piano', 'pop', 'pop-film', 'post-dubstep', 'power-pop', 'progressive-house', 'psych-rock', 'punk', 'punk-rock', 'r-n-b', 'rainy-day', 'reggae', 'reggaeton', 'road-trip', 'rock', 'rock-n-roll', 'rockabilly', 'romance', 'sad', 'salsa', 'samba', 'sertanejo', 'show-tunes', 'singer-songwriter', 'ska', 'sleep', 'songwriter', 'soul', 'soundtracks', 'spanish', 'study', 'summer', 'swedish', 'synth-pop', 'tango', 'techno', 'trance', 'trip-hop', 'turkish', 'work-out', 'world-music']\n"
     ]
    }
   ],
   "source": [
    "#opções de gênero\n",
    "print(sp.recommendation_genre_seeds()['genres'])"
   ]
  },
  {
   "cell_type": "code",
   "execution_count": 8,
   "metadata": {},
   "outputs": [
    {
     "name": "stdout",
     "output_type": "stream",
     "text": [
      "My Immortal\n"
     ]
    }
   ],
   "source": [
    "#buscando o nome da recomendação 1\n",
    "recommendations = sp.recommendations(seed_genres=['emo'], limit=30)['tracks']\n",
    "print(recommendations[0]['name'])"
   ]
  },
  {
   "cell_type": "code",
   "execution_count": 10,
   "metadata": {},
   "outputs": [
    {
     "name": "stdout",
     "output_type": "stream",
     "text": [
      "['My Immortal', 'Failure By Design', 'Na Na Na (Na Na Na Na Na Na Na Na Na) - Single Version', 'Sophomore Slump Or Comeback Of The Year', 'Beating Heart Baby', 'Crawling', 'Me vs. Maradona vs. Elvis', 'Understanding in a Car Crash', 'Camisado', 'Jar of Hearts', 'Perfect', 'A Boy Brushed Red Living In Black And White', 'crushcrushcrush', 'Thnks fr th Mmrs', 'Miss Murder', 'Famous Last Words', 'Everything Is Alright', 'Last Resort', 'Apology', 'How to Save a Life', 'Liar (It Takes One To Know One)', 'The Ghost of You', 'Screaming Infidelities', 'Last Train Home', \"Tears Don't Fall\", 'Stay Together For The Kids', 'Danger Zone', \"Not Good Enough For Truth In Cliche'\", '...Slowdance On The Inside', 'Reinventing Your Exit']\n"
     ]
    }
   ],
   "source": [
    "#listando todas as recomendações\n",
    "print([e['name'] for e in recommendations])"
   ]
  }
 ],
 "metadata": {
  "kernelspec": {
   "display_name": "Python 3",
   "language": "python",
   "name": "python3"
  },
  "language_info": {
   "codemirror_mode": {
    "name": "ipython",
    "version": 3
   },
   "file_extension": ".py",
   "mimetype": "text/x-python",
   "name": "python",
   "nbconvert_exporter": "python",
   "pygments_lexer": "ipython3",
   "version": "3.7.4"
  }
 },
 "nbformat": 4,
 "nbformat_minor": 4
}
